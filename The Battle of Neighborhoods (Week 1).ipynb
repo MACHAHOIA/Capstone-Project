{
 "cells": [
  {
   "cell_type": "markdown",
   "id": "5555e2f5",
   "metadata": {},
   "source": [
    "Introduction where you discuss the business problem and who would be interested in this project.\n",
    "The business problem is choose a location for open a restaurant in Toronto by th data of income and population from each neighborhood. \n",
    "\n",
    "Data where you describe the data that will be used to solve the problem and the source of the data.\n",
    "I will use Toronto 's Census 2016 data to get population  information and shapefile and Foursquare API to collect average income of Toronto's Neighborhoods\n",
    "\n",
    "Methodology section which represents the main component of the report where you discuss and describe any exploratory data analysis that you did, any inferential statistical testing that you performed, if any, and what machine learnings were used and why.\n",
    "\n",
    "This report provided a map withe different colours markers to divided the neighborhoods based on the data of income, population etc,help poeple find their target customer.\n",
    "\n",
    "Results section where you discuss the results.\n",
    "\n",
    "By the results  we can observe that most of the restaurants grouped on main streets and on the south of the city, but some of the welthiest neighborhoods are up to the north which the best location for open a restaurants are don't relate to the income of poeple.\n",
    "\n",
    "Discussion section where you discuss any observations you noted and any recommendations you can make based on the results.\n",
    "the clusters of restaurants are gourped in same regions.\n",
    "\n",
    "Conclusion section where you conclude the report.\n",
    "This report helpful for someone plan to find a location for open restaurant in Toronto, by comparing income and  neighborhoods profiles, however it didn't cover all variables like public transportation."
   ]
  },
  {
   "cell_type": "code",
   "execution_count": null,
   "id": "1376c505",
   "metadata": {},
   "outputs": [],
   "source": []
  }
 ],
 "metadata": {
  "kernelspec": {
   "display_name": "Python 3",
   "language": "python",
   "name": "python3"
  },
  "language_info": {
   "codemirror_mode": {
    "name": "ipython",
    "version": 3
   },
   "file_extension": ".py",
   "mimetype": "text/x-python",
   "name": "python",
   "nbconvert_exporter": "python",
   "pygments_lexer": "ipython3",
   "version": "3.8.8"
  }
 },
 "nbformat": 4,
 "nbformat_minor": 5
}
