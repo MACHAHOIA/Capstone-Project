{
 "cells": [
  {
   "cell_type": "markdown",
   "id": "ff3aec35",
   "metadata": {},
   "source": [
    "Capstone Project – The Battle of Neighborhoods Toronto"
   ]
  },
  {
   "cell_type": "markdown",
   "id": "c249030c",
   "metadata": {},
   "source": [
    "Introduction:\n",
    "This project is to help  people in toronto ,explore their neighborhood and select the better neighborhood in Scarborough.\n",
    "People are resarching lots of informations or data to find a better neighborhoods,like any facility like school or super market nearby.\n",
    "this projects are going to creata an analysis of features in Scarborough, to find a better neighborhood compare other neighborhoods\n",
    "\n",
    "Data Section:\n",
    "data will be use is the list of posral codes of Canada: M and Foursquare API Data.\n",
    "\n",
    "First, the dataset will contain latitude and longitude and zip codes.Next the information will gain by Foursquare locational information including venues.\n",
    "\n",
    "Methodology Section\n",
    "Using K-Means Clustering Approach\n",
    "<img src=\"files/kmca.png\">\n",
    "\n",
    "Most Common venues near Neighborhood\n",
    "<img src=\"files/mcv.png\">\n",
    "\n",
    "Results Section\n",
    "Clusters in Scarborough\n",
    "<img src=\"files/rs.png\">\n",
    "Average House price in Scargorough(by clusters)\n",
    "<img src=\"files/ahp.png\">\n",
    "\n",
    "Discussion Section \n",
    "This project is to suggest a better neighborhood in a new city for the person who came there.\n",
    "Sorted list of house in terms of housing prices in a ascending order\n",
    "\n",
    "Conclusion Section\n",
    "this project using k-means clustering I separated the neighborhood into 2 different clusters and for 6 different lattitude and logitude from dataset. Using the charts above results presented to a particular neighborhood based on average house prices have been made.\n",
    "\n",
    "This project has shown me a practical application to study a situation that has impacting personal and financial impact using Data Science tools. The mapping with Folium is a very powerful technique to consolidate information and make the analysis and decision better with confidence"
   ]
  },
  {
   "cell_type": "code",
   "execution_count": null,
   "id": "0c3ca93b",
   "metadata": {},
   "outputs": [],
   "source": []
  }
 ],
 "metadata": {
  "kernelspec": {
   "display_name": "Python 3",
   "language": "python",
   "name": "python3"
  },
  "language_info": {
   "codemirror_mode": {
    "name": "ipython",
    "version": 3
   },
   "file_extension": ".py",
   "mimetype": "text/x-python",
   "name": "python",
   "nbconvert_exporter": "python",
   "pygments_lexer": "ipython3",
   "version": "3.8.8"
  }
 },
 "nbformat": 4,
 "nbformat_minor": 5
}
